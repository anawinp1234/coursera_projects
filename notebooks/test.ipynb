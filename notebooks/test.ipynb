{
 "cells": [
  {
   "cell_type": "code",
   "execution_count": 1,
   "id": "7feecf71-42ee-4cb5-94f9-6f9ac2d7fa36",
   "metadata": {},
   "outputs": [],
   "source": [
    "s1='''[{\"id\":\"1\",\"name\":\"Google Pixel 6 Pro\",\"data\":{\"color\":\"Cloudy White\",\"capacity\":\"128 GB\"}},{\"id\":\"2\",\"name\":\"Apple iPhone 12 Mini, 256GB, Blue\",\"data\":null},{\"id\":\"3\",\"name\":\"Apple iPhone 12 Pro Max\",\"data\":{\"color\":\"Cloudy White\",\"capacity GB\":512}},{\"id\":\"4\",\"name\":\"Apple iPhone 11, 64GB\",\"data\":{\"price\":389.99,\"color\":\"Purple\"}},{\"id\":\"5\",\"name\":\"Samsung Galaxy Z Fold2\",\"data\":{\"price\":689.99,\"color\":\"Brown\"}},{\"id\":\"6\",\"name\":\"Apple AirPods\",\"data\":{\"generation\":\"3rd\",\"price\":120}},{\"id\":\"7\",\"name\":\"Apple MacBook Pro 16\",\"data\":{\"year\":2019,\"price\":1849.99,\"CPU model\":\"Intel Core i9\",\"Hard disk size\":\"1 TB\"}},{\"id\":\"8\",\"name\":\"Apple Watch Series 8\",\"data\":{\"Strap Colour\":\"Elderberry\",\"Case Size\":\"41mm\"}},{\"id\":\"9\",\"name\":\"Beats Studio3 Wireless\",\"data\":{\"Color\":\"Red\",\"Description\":\"High-performance wireless noise cancelling headphones\"}},{\"id\":\"10\",\"name\":\"Apple iPad Mini 5th Gen\",\"data\":{\"Capacity\":\"64 GB\",\"Screen size\":7.9}},{\"id\":\"11\",\"name\":\"Apple iPad Mini 5th Gen\",\"data\":{\"Capacity\":\"254 GB\",\"Screen size\":7.9}},{\"id\":\"12\",\"name\":\"Apple iPad Air\",\"data\":{\"Generation\":\"4th\",\"Price\":\"419.99\",\"Capacity\":\"64 GB\"}},{\"id\":\"13\",\"name\":\"Apple iPad Air\",\"data\":{\"Generation\":\"4th\",\"Price\":\"519.99\",\"Capacity\":\"256 GB\"}}]'''"
   ]
  },
  {
   "cell_type": "code",
   "execution_count": 3,
   "id": "e5ce9b8f-ffda-4b1e-9842-8712b474e735",
   "metadata": {},
   "outputs": [
    {
     "data": {
      "text/plain": [
       "'[{\"id\":\"1\",\"name\":\"Google Pixel 6 Pro\",\"data\":{\"color\":\"Cloudy White\",\"capacity\":\"128 GB\"}},{\"id\":\"2\",\"name\":\"Apple iPhone 12 Mini, 256GB, Blue\",\"data\":null},{\"id\":\"3\",\"name\":\"Apple iPhone 12 Pro Max\",\"data\":{\"color\":\"Cloudy White\",\"capacity GB\":512}},{\"id\":\"4\",\"name\":\"Apple iPhone 11, 64GB\",\"data\":{\"price\":389.99,\"color\":\"Purple\"}},{\"id\":\"5\",\"name\":\"Samsung Galaxy Z Fold2\",\"data\":{\"price\":689.99,\"color\":\"Brown\"}},{\"id\":\"6\",\"name\":\"Apple AirPods\",\"data\":{\"generation\":\"3rd\",\"price\":120}},{\"id\":\"7\",\"name\":\"Apple MacBook Pro 16\",\"data\":{\"year\":2019,\"price\":1849.99,\"CPU model\":\"Intel Core i9\",\"Hard disk size\":\"1 TB\"}},{\"id\":\"8\",\"name\":\"Apple Watch Series 8\",\"data\":{\"Strap Colour\":\"Elderberry\",\"Case Size\":\"41mm\"}},{\"id\":\"9\",\"name\":\"Beats Studio3 Wireless\",\"data\":{\"Color\":\"Red\",\"Description\":\"High-performance wireless noise cancelling headphones\"}},{\"id\":\"10\",\"name\":\"Apple iPad Mini 5th Gen\",\"data\":{\"Capacity\":\"64 GB\",\"Screen size\":7.9}},{\"id\":\"11\",\"name\":\"Apple iPad Mini 5th Gen\",\"data\":{\"Capacity\":\"254 GB\",\"Screen size\":7.9}},{\"id\":\"12\",\"name\":\"Apple iPad Air\",\"data\":{\"Generation\":\"4th\",\"Price\":\"419.99\",\"Capacity\":\"64 GB\"}},{\"id\":\"13\",\"name\":\"Apple iPad Air\",\"data\":{\"Generation\":\"4th\",\"Price\":\"519.99\",\"Capacity\":\"256 GB\"}}]'"
      ]
     },
     "execution_count": 3,
     "metadata": {},
     "output_type": "execute_result"
    }
   ],
   "source": [
    "s1"
   ]
  },
  {
   "cell_type": "code",
   "execution_count": 5,
   "id": "c582e6be-71ce-40c9-8e4b-c00872730dac",
   "metadata": {},
   "outputs": [],
   "source": [
    "import json"
   ]
  },
  {
   "cell_type": "code",
   "execution_count": 10,
   "id": "14f4f8ee-dde0-4fd5-aa9e-1c53c992cd27",
   "metadata": {},
   "outputs": [
    {
     "data": {
      "text/plain": [
       "list"
      ]
     },
     "execution_count": 10,
     "metadata": {},
     "output_type": "execute_result"
    },
    {
     "data": {
      "text/plain": [
       "13"
      ]
     },
     "execution_count": 10,
     "metadata": {},
     "output_type": "execute_result"
    },
    {
     "data": {
      "text/plain": [
       "[{'id': '1',\n",
       "  'name': 'Google Pixel 6 Pro',\n",
       "  'data': {'color': 'Cloudy White', 'capacity': '128 GB'}},\n",
       " {'id': '2', 'name': 'Apple iPhone 12 Mini, 256GB, Blue', 'data': None},\n",
       " {'id': '3',\n",
       "  'name': 'Apple iPhone 12 Pro Max',\n",
       "  'data': {'color': 'Cloudy White', 'capacity GB': 512}},\n",
       " {'id': '4',\n",
       "  'name': 'Apple iPhone 11, 64GB',\n",
       "  'data': {'price': 389.99, 'color': 'Purple'}},\n",
       " {'id': '5',\n",
       "  'name': 'Samsung Galaxy Z Fold2',\n",
       "  'data': {'price': 689.99, 'color': 'Brown'}},\n",
       " {'id': '6',\n",
       "  'name': 'Apple AirPods',\n",
       "  'data': {'generation': '3rd', 'price': 120}},\n",
       " {'id': '7',\n",
       "  'name': 'Apple MacBook Pro 16',\n",
       "  'data': {'year': 2019,\n",
       "   'price': 1849.99,\n",
       "   'CPU model': 'Intel Core i9',\n",
       "   'Hard disk size': '1 TB'}},\n",
       " {'id': '8',\n",
       "  'name': 'Apple Watch Series 8',\n",
       "  'data': {'Strap Colour': 'Elderberry', 'Case Size': '41mm'}},\n",
       " {'id': '9',\n",
       "  'name': 'Beats Studio3 Wireless',\n",
       "  'data': {'Color': 'Red',\n",
       "   'Description': 'High-performance wireless noise cancelling headphones'}},\n",
       " {'id': '10',\n",
       "  'name': 'Apple iPad Mini 5th Gen',\n",
       "  'data': {'Capacity': '64 GB', 'Screen size': 7.9}},\n",
       " {'id': '11',\n",
       "  'name': 'Apple iPad Mini 5th Gen',\n",
       "  'data': {'Capacity': '254 GB', 'Screen size': 7.9}},\n",
       " {'id': '12',\n",
       "  'name': 'Apple iPad Air',\n",
       "  'data': {'Generation': '4th', 'Price': '419.99', 'Capacity': '64 GB'}},\n",
       " {'id': '13',\n",
       "  'name': 'Apple iPad Air',\n",
       "  'data': {'Generation': '4th', 'Price': '519.99', 'Capacity': '256 GB'}}]"
      ]
     },
     "execution_count": 10,
     "metadata": {},
     "output_type": "execute_result"
    }
   ],
   "source": [
    "j=json.loads(s1)\n",
    "type(j)\n",
    "len(j)\n",
    "j"
   ]
  }
 ],
 "metadata": {
  "kernelspec": {
   "display_name": "Python 3 (ipykernel)",
   "language": "python",
   "name": "python3"
  },
  "language_info": {
   "codemirror_mode": {
    "name": "ipython",
    "version": 3
   },
   "file_extension": ".py",
   "mimetype": "text/x-python",
   "name": "python",
   "nbconvert_exporter": "python",
   "pygments_lexer": "ipython3",
   "version": "3.13.3"
  }
 },
 "nbformat": 4,
 "nbformat_minor": 5
}
